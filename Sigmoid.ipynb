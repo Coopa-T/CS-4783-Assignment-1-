{
 "cells": [
  {
   "cell_type": "code",
   "execution_count": 48,
   "metadata": {},
   "outputs": [],
   "source": [
    "import numpy as np\n",
    "#import pandas as pd\n",
    "import matplotlib.pyplot as plt"
   ]
  },
  {
   "cell_type": "code",
   "execution_count": 49,
   "metadata": {},
   "outputs": [],
   "source": [
    "X_test = np.loadtxt(\"X_test.csv\")\n",
    "Y_test = np.loadtxt(\"Y_test.csv\")\n",
    "X_train = np.loadtxt(\"X_train.csv\")\n",
    "Y_train = np.loadtxt(\"Y_train.csv\")"
   ]
  },
  {
   "cell_type": "code",
   "execution_count": 50,
   "metadata": {},
   "outputs": [],
   "source": [
    "def get_bias(T_Layer):\n",
    "    return np.zeroes(T_Layer)"
   ]
  },
  {
   "cell_type": "code",
   "execution_count": 51,
   "metadata": {},
   "outputs": [],
   "source": [
    "def get_weights(L_Layer, T_Layer):\n",
    "    return np.random.rand(T_Layer, L_Layer)"
   ]
  },
  {
   "cell_type": "code",
   "execution_count": 52,
   "metadata": {},
   "outputs": [],
   "source": [
    "def get_neural_network(layers):\n",
    "    bias=[]\n",
    "    weights=[]\n",
    "    for i in range(1, len(layers)):\n",
    "        bias.append(get_bias(layers[i]))\n",
    "        weights.append(get_weights(layers[i-1], layers[i]))\n",
    "        return weights, bias"
   ]
  },
  {
   "cell_type": "code",
   "execution_count": 53,
   "metadata": {},
   "outputs": [],
   "source": [
    "def sigmoid(x, is_derivative=False):\n",
    "    if is_derivative:\n",
    "        sig_value = sig(x)\n",
    "        one_sub = np.subtract(1, sig_value)\n",
    "        deriv = np.multiply(sig_value, one_sub)\n",
    "        return deriv\n",
    "    else:\n",
    "        minus_x = np.multiply(x, -1)\n",
    "        e_x = np.exp(minus_x)\n",
    "        add_one = np.add(1, e_x)\n",
    "        sig = np.divide(1, add_one)\n",
    "        return sig\n",
    "\n",
    "    "
   ]
  }
 ],
 "metadata": {
  "kernelspec": {
   "display_name": "Python 3.10.7 64-bit",
   "language": "python",
   "name": "python3"
  },
  "language_info": {
   "codemirror_mode": {
    "name": "ipython",
    "version": 3
   },
   "file_extension": ".py",
   "mimetype": "text/x-python",
   "name": "python",
   "nbconvert_exporter": "python",
   "pygments_lexer": "ipython3",
   "version": "3.10.7"
  },
  "orig_nbformat": 4,
  "vscode": {
   "interpreter": {
    "hash": "a7dbb88c84ecda04e2dfa8176cb6708abf8c95c32934f510df16d1a1f4945387"
   }
  }
 },
 "nbformat": 4,
 "nbformat_minor": 2
}
